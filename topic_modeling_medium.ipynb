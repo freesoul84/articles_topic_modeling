{
  "nbformat": 4,
  "nbformat_minor": 0,
  "metadata": {
    "colab": {
      "name": "topic_modeling_medium.ipynb",
      "version": "0.3.2",
      "provenance": [],
      "collapsed_sections": [],
      "include_colab_link": true
    },
    "kernelspec": {
      "name": "python3",
      "display_name": "Python 3"
    }
  },
  "cells": [
    {
      "cell_type": "markdown",
      "metadata": {
        "id": "view-in-github",
        "colab_type": "text"
      },
      "source": [
        "<a href=\"https://colab.research.google.com/github/keshab97/articles_topic_modeling/blob/master/topic_modeling_medium.ipynb\" target=\"_parent\"><img src=\"https://colab.research.google.com/assets/colab-badge.svg\" alt=\"Open In Colab\"/></a>"
      ]
    },
    {
      "metadata": {
        "id": "PXUQmIY6gU4n",
        "colab_type": "code",
        "outputId": "72be77ba-63d3-4373-9242-77c00755e099",
        "colab": {
          "base_uri": "https://localhost:8080/",
          "height": 122
        }
      },
      "cell_type": "code",
      "source": [
        "from google.colab import drive\n",
        "drive.mount('/content/gdrive')"
      ],
      "execution_count": 2,
      "outputs": [
        {
          "output_type": "stream",
          "text": [
            "Go to this URL in a browser: https://accounts.google.com/o/oauth2/auth?client_id=947318989803-6bn6qk8qdgf4n4g3pfee6491hc0brc4i.apps.googleusercontent.com&redirect_uri=urn%3Aietf%3Awg%3Aoauth%3A2.0%3Aoob&scope=email%20https%3A%2F%2Fwww.googleapis.com%2Fauth%2Fdocs.test%20https%3A%2F%2Fwww.googleapis.com%2Fauth%2Fdrive%20https%3A%2F%2Fwww.googleapis.com%2Fauth%2Fdrive.photos.readonly%20https%3A%2F%2Fwww.googleapis.com%2Fauth%2Fpeopleapi.readonly&response_type=code\n",
            "\n",
            "Enter your authorization code:\n",
            "··········\n",
            "Mounted at /content/gdrive\n"
          ],
          "name": "stdout"
        }
      ]
    },
    {
      "metadata": {
        "id": "6GAhbYcjg6V8",
        "colab_type": "code",
        "outputId": "dc3a56ae-1615-4b43-9482-f1d8b903a580",
        "colab": {
          "base_uri": "https://localhost:8080/",
          "height": 34
        }
      },
      "cell_type": "code",
      "source": [
        "%cd gdrive/My Drive/topic_modeling/"
      ],
      "execution_count": 3,
      "outputs": [
        {
          "output_type": "stream",
          "text": [
            "/content/gdrive/My Drive/topic_modeling\n"
          ],
          "name": "stdout"
        }
      ]
    },
    {
      "metadata": {
        "id": "613L5Yh_ZJh_",
        "colab_type": "code",
        "colab": {
          "base_uri": "https://localhost:8080/",
          "height": 51
        },
        "outputId": "da1b76b0-5b29-4cde-e64f-a72492b4c29d"
      },
      "cell_type": "code",
      "source": [
        "!ls"
      ],
      "execution_count": 18,
      "outputs": [
        {
          "output_type": "stream",
          "text": [
            "kaggle.json\t\t   medium-articles-with-content.zip\n",
            "Medium_AggregatedData.csv  topic.txt\n"
          ],
          "name": "stdout"
        }
      ]
    },
    {
      "metadata": {
        "id": "gClMYtQRiZ9Y",
        "colab_type": "code",
        "outputId": "4aeefd4e-c810-4e2f-a0a7-c33d958a368f",
        "colab": {
          "base_uri": "https://localhost:8080/",
          "height": 34
        }
      },
      "cell_type": "code",
      "source": [
        "from google.colab import files\n",
        "files.upload() "
      ],
      "execution_count": 0,
      "outputs": [
        {
          "output_type": "stream",
          "text": [
            " kaggle.json  'Untitled Document'\n"
          ],
          "name": "stdout"
        }
      ]
    },
    {
      "metadata": {
        "id": "hYTl4TY6jXgy",
        "colab_type": "code",
        "outputId": "4afdc41d-6f68-4cae-c922-37008de6f033",
        "colab": {
          "base_uri": "https://localhost:8080/",
          "height": 34
        }
      },
      "cell_type": "code",
      "source": [
        "!pip install -q kaggle\n",
        "!mkdir -p ~/.kaggle\n",
        "!cp kaggle.json ~/.kaggle/\n",
        "!ls ~/.kaggle\n",
        "!chmod 600 /root/.kaggle/kaggle.json "
      ],
      "execution_count": 0,
      "outputs": [
        {
          "output_type": "stream",
          "text": [
            "kaggle.json\n"
          ],
          "name": "stdout"
        }
      ]
    },
    {
      "metadata": {
        "id": "Fd-qdDECkQYO",
        "colab_type": "code",
        "outputId": "17148ffc-cb96-4923-c422-f12285fac303",
        "colab": {
          "base_uri": "https://localhost:8080/",
          "height": 68
        }
      },
      "cell_type": "code",
      "source": [
        "!kaggle datasets download -d aiswaryaramachandran/medium-articles-with-content"
      ],
      "execution_count": 0,
      "outputs": [
        {
          "output_type": "stream",
          "text": [
            "Downloading medium-articles-with-content.zip to /content/gdrive/My Drive/topic_modeling\n",
            " 99% 214M/215M [00:04<00:00, 64.5MB/s]\n",
            "100% 215M/215M [00:04<00:00, 45.8MB/s]\n"
          ],
          "name": "stdout"
        }
      ]
    },
    {
      "metadata": {
        "id": "nUb8FUUCkjsl",
        "colab_type": "code",
        "outputId": "80dbee8f-8f05-4236-b67a-7565d4ff2d77",
        "colab": {
          "base_uri": "https://localhost:8080/",
          "height": 34
        }
      },
      "cell_type": "code",
      "source": [
        "!ls"
      ],
      "execution_count": 0,
      "outputs": [
        {
          "output_type": "stream",
          "text": [
            " kaggle.json   medium-articles-with-content.zip  'Untitled Document'\n"
          ],
          "name": "stdout"
        }
      ]
    },
    {
      "metadata": {
        "id": "zh80Rfl5kp2L",
        "colab_type": "code",
        "outputId": "a2bd087a-681c-467e-f0b8-b357812f4d60",
        "colab": {
          "base_uri": "https://localhost:8080/",
          "height": 51
        }
      },
      "cell_type": "code",
      "source": [
        "!unzip medium-articles-with-content.zip"
      ],
      "execution_count": 0,
      "outputs": [
        {
          "output_type": "stream",
          "text": [
            "Archive:  medium-articles-with-content.zip\n",
            "  inflating: Medium_AggregatedData.csv  \n"
          ],
          "name": "stdout"
        }
      ]
    },
    {
      "metadata": {
        "id": "GtpHaZmZkupa",
        "colab_type": "code",
        "outputId": "c6716ef6-7191-4c45-fa2a-2e42e2428f7a",
        "colab": {
          "base_uri": "https://localhost:8080/",
          "height": 34
        }
      },
      "cell_type": "code",
      "source": [
        "!ls"
      ],
      "execution_count": 0,
      "outputs": [
        {
          "output_type": "stream",
          "text": [
            "kaggle.json  Medium_AggregatedData.csv\tmedium-articles-with-content.zip\n"
          ],
          "name": "stdout"
        }
      ]
    },
    {
      "metadata": {
        "id": "lSGE1w85lDeN",
        "colab_type": "code",
        "colab": {}
      },
      "cell_type": "code",
      "source": [
        "!pip install -q kaggle"
      ],
      "execution_count": 0,
      "outputs": []
    },
    {
      "metadata": {
        "id": "Lzk1D3tmmIdt",
        "colab_type": "code",
        "colab": {}
      },
      "cell_type": "code",
      "source": [
        "!chmod 600 kaggle.json "
      ],
      "execution_count": 0,
      "outputs": []
    },
    {
      "metadata": {
        "id": "3UyV58G6madW",
        "colab_type": "code",
        "outputId": "57feb57d-8529-4f8c-cb49-9ef8d945c909",
        "colab": {
          "base_uri": "https://localhost:8080/",
          "height": 68
        }
      },
      "cell_type": "code",
      "source": [
        "!kaggle datasets download -d aiswaryaramachandran/medium-articles-with-content"
      ],
      "execution_count": 0,
      "outputs": [
        {
          "output_type": "stream",
          "text": [
            "Downloading medium-articles-with-content.zip to /content/gdrive/My Drive/topic_modeling\n",
            " 94% 203M/215M [00:01<00:00, 121MB/s]\n",
            "100% 215M/215M [00:01<00:00, 120MB/s]\n"
          ],
          "name": "stdout"
        }
      ]
    },
    {
      "metadata": {
        "id": "3zcoK6LQmngO",
        "colab_type": "code",
        "outputId": "c4a202cf-14bd-47a9-abcb-e109851e98f9",
        "colab": {
          "base_uri": "https://localhost:8080/",
          "height": 34
        }
      },
      "cell_type": "code",
      "source": [
        "!ls"
      ],
      "execution_count": 0,
      "outputs": [
        {
          "output_type": "stream",
          "text": [
            "kaggle.json  medium-articles-with-content.zip\n"
          ],
          "name": "stdout"
        }
      ]
    },
    {
      "metadata": {
        "id": "d2W_YcqOmqqO",
        "colab_type": "code",
        "outputId": "b26d96e7-acef-42c3-fb67-7367521a5096",
        "colab": {
          "base_uri": "https://localhost:8080/",
          "height": 51
        }
      },
      "cell_type": "code",
      "source": [
        "!unzip  medium-articles-with-content.zip"
      ],
      "execution_count": 0,
      "outputs": [
        {
          "output_type": "stream",
          "text": [
            "Archive:  medium-articles-with-content.zip\n",
            "  inflating: Medium_AggregatedData.csv  \n"
          ],
          "name": "stdout"
        }
      ]
    },
    {
      "metadata": {
        "id": "vKn7k6Fun8NC",
        "colab_type": "code",
        "colab": {}
      },
      "cell_type": "code",
      "source": [
        "!chmod 600 Medium_AggregatedData.csv"
      ],
      "execution_count": 0,
      "outputs": []
    },
    {
      "metadata": {
        "id": "BXR_IxruoLNi",
        "colab_type": "code",
        "outputId": "a54e7072-079c-4d84-9535-359fd6908036",
        "colab": {
          "base_uri": "https://localhost:8080/",
          "height": 34
        }
      },
      "cell_type": "code",
      "source": [
        "import sys\n",
        "import csv\n",
        "sys.maxsize=10000000\n",
        "csv.field_size_limit(sys.maxsize)"
      ],
      "execution_count": 20,
      "outputs": [
        {
          "output_type": "execute_result",
          "data": {
            "text/plain": [
              "10000000"
            ]
          },
          "metadata": {
            "tags": []
          },
          "execution_count": 20
        }
      ]
    },
    {
      "metadata": {
        "id": "UXl6DVMqm3Vg",
        "colab_type": "code",
        "colab": {}
      },
      "cell_type": "code",
      "source": [
        "import pandas as pd\n",
        "a=pd.read_csv(\"Medium_AggregatedData.csv\", engine='python')"
      ],
      "execution_count": 0,
      "outputs": []
    },
    {
      "metadata": {
        "id": "wqIWQNahnHtJ",
        "colab_type": "code",
        "outputId": "9db7924a-1833-418e-db56-b449dfbc93c0",
        "colab": {
          "base_uri": "https://localhost:8080/",
          "height": 338
        }
      },
      "cell_type": "code",
      "source": [
        "a.head(5)"
      ],
      "execution_count": 22,
      "outputs": [
        {
          "output_type": "execute_result",
          "data": {
            "text/html": [
              "<div>\n",
              "<style scoped>\n",
              "    .dataframe tbody tr th:only-of-type {\n",
              "        vertical-align: middle;\n",
              "    }\n",
              "\n",
              "    .dataframe tbody tr th {\n",
              "        vertical-align: top;\n",
              "    }\n",
              "\n",
              "    .dataframe thead th {\n",
              "        text-align: right;\n",
              "    }\n",
              "</style>\n",
              "<table border=\"1\" class=\"dataframe\">\n",
              "  <thead>\n",
              "    <tr style=\"text-align: right;\">\n",
              "      <th></th>\n",
              "      <th>audioVersionDurationSec</th>\n",
              "      <th>codeBlock</th>\n",
              "      <th>codeBlockCount</th>\n",
              "      <th>collectionId</th>\n",
              "      <th>createdDate</th>\n",
              "      <th>createdDatetime</th>\n",
              "      <th>firstPublishedDate</th>\n",
              "      <th>firstPublishedDatetime</th>\n",
              "      <th>imageCount</th>\n",
              "      <th>isSubscriptionLocked</th>\n",
              "      <th>...</th>\n",
              "      <th>slug</th>\n",
              "      <th>name</th>\n",
              "      <th>postCount</th>\n",
              "      <th>author</th>\n",
              "      <th>bio</th>\n",
              "      <th>userId</th>\n",
              "      <th>userName</th>\n",
              "      <th>usersFollowedByCount</th>\n",
              "      <th>usersFollowedCount</th>\n",
              "      <th>scrappedDate</th>\n",
              "    </tr>\n",
              "  </thead>\n",
              "  <tbody>\n",
              "    <tr>\n",
              "      <th>0</th>\n",
              "      <td>0</td>\n",
              "      <td>NaN</td>\n",
              "      <td>0.0</td>\n",
              "      <td>638f418c8464</td>\n",
              "      <td>2018-09-18</td>\n",
              "      <td>2018-09-18 20:55:34</td>\n",
              "      <td>2018-09-18</td>\n",
              "      <td>2018-09-18 20:57:03</td>\n",
              "      <td>1</td>\n",
              "      <td>False</td>\n",
              "      <td>...</td>\n",
              "      <td>blockchain</td>\n",
              "      <td>Blockchain</td>\n",
              "      <td>265164.0</td>\n",
              "      <td>Anar Babaev</td>\n",
              "      <td>NaN</td>\n",
              "      <td>f1ad85af0169</td>\n",
              "      <td>babaevanar</td>\n",
              "      <td>450.0</td>\n",
              "      <td>404.0</td>\n",
              "      <td>20181104</td>\n",
              "    </tr>\n",
              "    <tr>\n",
              "      <th>1</th>\n",
              "      <td>0</td>\n",
              "      <td>NaN</td>\n",
              "      <td>0.0</td>\n",
              "      <td>638f418c8464</td>\n",
              "      <td>2018-09-18</td>\n",
              "      <td>2018-09-18 20:55:34</td>\n",
              "      <td>2018-09-18</td>\n",
              "      <td>2018-09-18 20:57:03</td>\n",
              "      <td>1</td>\n",
              "      <td>False</td>\n",
              "      <td>...</td>\n",
              "      <td>samsung</td>\n",
              "      <td>Samsung</td>\n",
              "      <td>5708.0</td>\n",
              "      <td>Anar Babaev</td>\n",
              "      <td>NaN</td>\n",
              "      <td>f1ad85af0169</td>\n",
              "      <td>babaevanar</td>\n",
              "      <td>450.0</td>\n",
              "      <td>404.0</td>\n",
              "      <td>20181104</td>\n",
              "    </tr>\n",
              "    <tr>\n",
              "      <th>2</th>\n",
              "      <td>0</td>\n",
              "      <td>NaN</td>\n",
              "      <td>0.0</td>\n",
              "      <td>638f418c8464</td>\n",
              "      <td>2018-09-18</td>\n",
              "      <td>2018-09-18 20:55:34</td>\n",
              "      <td>2018-09-18</td>\n",
              "      <td>2018-09-18 20:57:03</td>\n",
              "      <td>1</td>\n",
              "      <td>False</td>\n",
              "      <td>...</td>\n",
              "      <td>it</td>\n",
              "      <td>It</td>\n",
              "      <td>3720.0</td>\n",
              "      <td>Anar Babaev</td>\n",
              "      <td>NaN</td>\n",
              "      <td>f1ad85af0169</td>\n",
              "      <td>babaevanar</td>\n",
              "      <td>450.0</td>\n",
              "      <td>404.0</td>\n",
              "      <td>20181104</td>\n",
              "    </tr>\n",
              "    <tr>\n",
              "      <th>3</th>\n",
              "      <td>0</td>\n",
              "      <td>NaN</td>\n",
              "      <td>0.0</td>\n",
              "      <td>NaN</td>\n",
              "      <td>2018-01-07</td>\n",
              "      <td>2018-01-07 17:04:37</td>\n",
              "      <td>2018-01-07</td>\n",
              "      <td>2018-01-07 17:06:29</td>\n",
              "      <td>13</td>\n",
              "      <td>False</td>\n",
              "      <td>...</td>\n",
              "      <td>technology</td>\n",
              "      <td>Technology</td>\n",
              "      <td>166125.0</td>\n",
              "      <td>George Sykes</td>\n",
              "      <td>NaN</td>\n",
              "      <td>93b9e94f08ca</td>\n",
              "      <td>tasty231</td>\n",
              "      <td>6.0</td>\n",
              "      <td>22.0</td>\n",
              "      <td>20181104</td>\n",
              "    </tr>\n",
              "    <tr>\n",
              "      <th>4</th>\n",
              "      <td>0</td>\n",
              "      <td>NaN</td>\n",
              "      <td>0.0</td>\n",
              "      <td>NaN</td>\n",
              "      <td>2018-01-07</td>\n",
              "      <td>2018-01-07 17:04:37</td>\n",
              "      <td>2018-01-07</td>\n",
              "      <td>2018-01-07 17:06:29</td>\n",
              "      <td>13</td>\n",
              "      <td>False</td>\n",
              "      <td>...</td>\n",
              "      <td>robotics</td>\n",
              "      <td>Robotics</td>\n",
              "      <td>9103.0</td>\n",
              "      <td>George Sykes</td>\n",
              "      <td>NaN</td>\n",
              "      <td>93b9e94f08ca</td>\n",
              "      <td>tasty231</td>\n",
              "      <td>6.0</td>\n",
              "      <td>22.0</td>\n",
              "      <td>20181104</td>\n",
              "    </tr>\n",
              "  </tbody>\n",
              "</table>\n",
              "<p>5 rows × 50 columns</p>\n",
              "</div>"
            ],
            "text/plain": [
              "   audioVersionDurationSec codeBlock  codeBlockCount  collectionId  \\\n",
              "0                        0       NaN             0.0  638f418c8464   \n",
              "1                        0       NaN             0.0  638f418c8464   \n",
              "2                        0       NaN             0.0  638f418c8464   \n",
              "3                        0       NaN             0.0           NaN   \n",
              "4                        0       NaN             0.0           NaN   \n",
              "\n",
              "  createdDate      createdDatetime firstPublishedDate firstPublishedDatetime  \\\n",
              "0  2018-09-18  2018-09-18 20:55:34         2018-09-18    2018-09-18 20:57:03   \n",
              "1  2018-09-18  2018-09-18 20:55:34         2018-09-18    2018-09-18 20:57:03   \n",
              "2  2018-09-18  2018-09-18 20:55:34         2018-09-18    2018-09-18 20:57:03   \n",
              "3  2018-01-07  2018-01-07 17:04:37         2018-01-07    2018-01-07 17:06:29   \n",
              "4  2018-01-07  2018-01-07 17:04:37         2018-01-07    2018-01-07 17:06:29   \n",
              "\n",
              "   imageCount  isSubscriptionLocked     ...             slug        name  \\\n",
              "0           1                 False     ...       blockchain  Blockchain   \n",
              "1           1                 False     ...          samsung     Samsung   \n",
              "2           1                 False     ...               it          It   \n",
              "3          13                 False     ...       technology  Technology   \n",
              "4          13                 False     ...         robotics    Robotics   \n",
              "\n",
              "  postCount        author  bio        userId    userName  \\\n",
              "0  265164.0   Anar Babaev  NaN  f1ad85af0169  babaevanar   \n",
              "1    5708.0   Anar Babaev  NaN  f1ad85af0169  babaevanar   \n",
              "2    3720.0   Anar Babaev  NaN  f1ad85af0169  babaevanar   \n",
              "3  166125.0  George Sykes  NaN  93b9e94f08ca    tasty231   \n",
              "4    9103.0  George Sykes  NaN  93b9e94f08ca    tasty231   \n",
              "\n",
              "   usersFollowedByCount  usersFollowedCount scrappedDate  \n",
              "0                 450.0               404.0     20181104  \n",
              "1                 450.0               404.0     20181104  \n",
              "2                 450.0               404.0     20181104  \n",
              "3                   6.0                22.0     20181104  \n",
              "4                   6.0                22.0     20181104  \n",
              "\n",
              "[5 rows x 50 columns]"
            ]
          },
          "metadata": {
            "tags": []
          },
          "execution_count": 22
        }
      ]
    },
    {
      "metadata": {
        "id": "kABF7N3fpwIh",
        "colab_type": "code",
        "outputId": "c39694ea-f0e0-4f54-d425-99bb44b3ecad",
        "colab": {
          "base_uri": "https://localhost:8080/",
          "height": 272
        }
      },
      "cell_type": "code",
      "source": [
        "a.columns"
      ],
      "execution_count": 23,
      "outputs": [
        {
          "output_type": "execute_result",
          "data": {
            "text/plain": [
              "Index(['audioVersionDurationSec', 'codeBlock', 'codeBlockCount',\n",
              "       'collectionId', 'createdDate', 'createdDatetime', 'firstPublishedDate',\n",
              "       'firstPublishedDatetime', 'imageCount', 'isSubscriptionLocked',\n",
              "       'language', 'latestPublishedDate', 'latestPublishedDatetime',\n",
              "       'linksCount', 'postId', 'readingTime', 'recommends',\n",
              "       'responsesCreatedCount', 'socialRecommendsCount', 'subTitle',\n",
              "       'tagsCount', 'text', 'title', 'totalClapCount', 'uniqueSlug',\n",
              "       'updatedDate', 'updatedDatetime', 'url', 'vote', 'wordCount',\n",
              "       'publicationdescription', 'publicationdomain',\n",
              "       'publicationfacebookPageName', 'publicationfollowerCount',\n",
              "       'publicationname', 'publicationpublicEmail', 'publicationslug',\n",
              "       'publicationtags', 'publicationtwitterUsername', 'tag_name', 'slug',\n",
              "       'name', 'postCount', 'author', 'bio', 'userId', 'userName',\n",
              "       'usersFollowedByCount', 'usersFollowedCount', 'scrappedDate'],\n",
              "      dtype='object')"
            ]
          },
          "metadata": {
            "tags": []
          },
          "execution_count": 23
        }
      ]
    },
    {
      "metadata": {
        "id": "TNbpjDMDqCAi",
        "colab_type": "code",
        "colab": {}
      },
      "cell_type": "code",
      "source": [
        "a=a.drop(['audioVersionDurationSec', 'codeBlock', 'codeBlockCount',\n",
        "       'collectionId', 'createdDate', 'createdDatetime', 'firstPublishedDate',\n",
        "       'firstPublishedDatetime', 'imageCount', 'isSubscriptionLocked'],axis=1)"
      ],
      "execution_count": 0,
      "outputs": []
    },
    {
      "metadata": {
        "id": "WxqJHd9SqSoi",
        "colab_type": "code",
        "colab": {}
      },
      "cell_type": "code",
      "source": [
        "a=a.drop(['latestPublishedDatetime',\n",
        "       'linksCount', 'postId', 'readingTime', 'recommends',\n",
        "       'responsesCreatedCount', 'socialRecommendsCount','updatedDate', 'updatedDatetime', 'publicationfacebookPageName', 'publicationfollowerCount'],axis=1)"
      ],
      "execution_count": 0,
      "outputs": []
    },
    {
      "metadata": {
        "id": "oKejK_TBqUHe",
        "colab_type": "code",
        "colab": {}
      },
      "cell_type": "code",
      "source": [
        "a=a.drop(['usersFollowedByCount',\n",
        "       'usersFollowedCount', 'scrappedDate', 'bio', 'userId', 'publicationdescription', 'publicationdomain'],axis=1)"
      ],
      "execution_count": 0,
      "outputs": []
    },
    {
      "metadata": {
        "id": "fsZCDkdwqt4G",
        "colab_type": "code",
        "colab": {}
      },
      "cell_type": "code",
      "source": [
        "a=a.drop(['language', 'latestPublishedDate', 'subTitle', 'tagsCount', 'uniqueSlug','publicationpublicEmail', 'publicationslug','publicationtwitterUsername'],axis=1)"
      ],
      "execution_count": 0,
      "outputs": []
    },
    {
      "metadata": {
        "id": "IpScvPSMrNG6",
        "colab_type": "code",
        "colab": {}
      },
      "cell_type": "code",
      "source": [
        "a=a.drop(['wordCount','publicationtags','userName','postCount'],axis=1)"
      ],
      "execution_count": 0,
      "outputs": []
    },
    {
      "metadata": {
        "id": "0hRQFcVS1a3P",
        "colab_type": "code",
        "colab": {}
      },
      "cell_type": "code",
      "source": [
        "a=a.drop(['totalClapCount','url','vote','publicationname','tag_name','slug','author'],axis=1)"
      ],
      "execution_count": 0,
      "outputs": []
    },
    {
      "metadata": {
        "id": "0B9JVt5WrP1e",
        "colab_type": "code",
        "outputId": "eb2c1f09-2a2e-4033-dc60-f314b9913885",
        "colab": {
          "base_uri": "https://localhost:8080/",
          "height": 204
        }
      },
      "cell_type": "code",
      "source": [
        "a.head()"
      ],
      "execution_count": 30,
      "outputs": [
        {
          "output_type": "execute_result",
          "data": {
            "text/html": [
              "<div>\n",
              "<style scoped>\n",
              "    .dataframe tbody tr th:only-of-type {\n",
              "        vertical-align: middle;\n",
              "    }\n",
              "\n",
              "    .dataframe tbody tr th {\n",
              "        vertical-align: top;\n",
              "    }\n",
              "\n",
              "    .dataframe thead th {\n",
              "        text-align: right;\n",
              "    }\n",
              "</style>\n",
              "<table border=\"1\" class=\"dataframe\">\n",
              "  <thead>\n",
              "    <tr style=\"text-align: right;\">\n",
              "      <th></th>\n",
              "      <th>text</th>\n",
              "      <th>title</th>\n",
              "      <th>name</th>\n",
              "    </tr>\n",
              "  </thead>\n",
              "  <tbody>\n",
              "    <tr>\n",
              "      <th>0</th>\n",
              "      <td>Private Business, Government and Blockchain\\n\\...</td>\n",
              "      <td>Private Business, Government and Blockchain</td>\n",
              "      <td>Blockchain</td>\n",
              "    </tr>\n",
              "    <tr>\n",
              "      <th>1</th>\n",
              "      <td>Private Business, Government and Blockchain\\n\\...</td>\n",
              "      <td>Private Business, Government and Blockchain</td>\n",
              "      <td>Samsung</td>\n",
              "    </tr>\n",
              "    <tr>\n",
              "      <th>2</th>\n",
              "      <td>Private Business, Government and Blockchain\\n\\...</td>\n",
              "      <td>Private Business, Government and Blockchain</td>\n",
              "      <td>It</td>\n",
              "    </tr>\n",
              "    <tr>\n",
              "      <th>3</th>\n",
              "      <td>EPQ draft 1 (4844 words)\\nhttps://upload.wikim...</td>\n",
              "      <td>EPQ draft 1 (4844 words)</td>\n",
              "      <td>Technology</td>\n",
              "    </tr>\n",
              "    <tr>\n",
              "      <th>4</th>\n",
              "      <td>EPQ draft 1 (4844 words)\\nhttps://upload.wikim...</td>\n",
              "      <td>EPQ draft 1 (4844 words)</td>\n",
              "      <td>Robotics</td>\n",
              "    </tr>\n",
              "  </tbody>\n",
              "</table>\n",
              "</div>"
            ],
            "text/plain": [
              "                                                text  \\\n",
              "0  Private Business, Government and Blockchain\\n\\...   \n",
              "1  Private Business, Government and Blockchain\\n\\...   \n",
              "2  Private Business, Government and Blockchain\\n\\...   \n",
              "3  EPQ draft 1 (4844 words)\\nhttps://upload.wikim...   \n",
              "4  EPQ draft 1 (4844 words)\\nhttps://upload.wikim...   \n",
              "\n",
              "                                         title        name  \n",
              "0  Private Business, Government and Blockchain  Blockchain  \n",
              "1  Private Business, Government and Blockchain     Samsung  \n",
              "2  Private Business, Government and Blockchain          It  \n",
              "3                     EPQ draft 1 (4844 words)  Technology  \n",
              "4                     EPQ draft 1 (4844 words)    Robotics  "
            ]
          },
          "metadata": {
            "tags": []
          },
          "execution_count": 30
        }
      ]
    },
    {
      "metadata": {
        "id": "6uHt7IswsQdz",
        "colab_type": "code",
        "colab": {}
      },
      "cell_type": "code",
      "source": [
        "dataset=a.drop_duplicates(subset=['text','title'], keep=False)"
      ],
      "execution_count": 0,
      "outputs": []
    },
    {
      "metadata": {
        "id": "CGfH_TrQk8zZ",
        "colab_type": "code",
        "colab": {
          "base_uri": "https://localhost:8080/",
          "height": 323
        },
        "outputId": "48dedc0f-6754-4886-f01d-0d0957e856dd"
      },
      "cell_type": "code",
      "source": [
        "pprint(a.text[0])"
      ],
      "execution_count": 104,
      "outputs": [
        {
          "output_type": "stream",
          "text": [
            "('Private Business, Government and Blockchain\\n'\n",
            " '\\n'\n",
            " 'A major private IT company implements blockchain, artificial intelligence, '\n",
            " 'and Internet of Things to optimize and improve high technology workflow. The '\n",
            " 'representatives of a major state structure from the same country like this '\n",
            " 'experiment so much they decide to use it in their work and conclude an '\n",
            " 'agreement with the IT giant. This is an ideal example of interaction between '\n",
            " 'private business and the state regarding blockchain, don’t you think? What '\n",
            " 'is even better is that this story is real: in South Korea a local customs '\n",
            " 'office has signed the respective partnership agreement with Samsung. I '\n",
            " 'believe that the near-term development of blockchain will be built on just '\n",
            " 'such examples of cooperation. In a world where all the best technological '\n",
            " 'decisions are copied at supersonic speed, one cannot remain behind the '\n",
            " 'trends for long. That’s why I’m confident that blockchain and other crypto '\n",
            " 'technologies will soon be adopted around the world. In the 21st century it '\n",
            " 'would be strange to go searching for a telephone booth to make a call, when '\n",
            " 'you can do so from anywhere on the planet with one click on your gadget.\\n'\n",
            " 'https://www.coindesk.com/korea-taps-samsungs-blockchain-tech-to-fight-customs-fraud/\\n')\n"
          ],
          "name": "stdout"
        }
      ]
    },
    {
      "metadata": {
        "id": "meXXL_dywwZk",
        "colab_type": "code",
        "colab": {}
      },
      "cell_type": "code",
      "source": [
        "titles=dataset.title.unique().tolist()\n"
      ],
      "execution_count": 0,
      "outputs": []
    },
    {
      "metadata": {
        "id": "TJuINw-Msjf0",
        "colab_type": "code",
        "outputId": "6f0fb5c1-55ac-4e42-ba97-8e8aa4c87bb1",
        "colab": {
          "base_uri": "https://localhost:8080/",
          "height": 51
        }
      },
      "cell_type": "code",
      "source": [
        "unique_topics=dataset.name.unique().tolist()\n",
        "print(\"unique topics :\",len(unique_topics))\n",
        "print(\"dataset rows number :\",dataset.shape[0])"
      ],
      "execution_count": 33,
      "outputs": [
        {
          "output_type": "stream",
          "text": [
            "unique topics : 219\n",
            "dataset rows number : 5374\n"
          ],
          "name": "stdout"
        }
      ]
    },
    {
      "metadata": {
        "id": "jrT85ANKtDX9",
        "colab_type": "code",
        "outputId": "99bb3176-64c1-40ba-f675-1259a0f87fb4",
        "colab": {
          "base_uri": "https://localhost:8080/",
          "height": 85
        }
      },
      "cell_type": "code",
      "source": [
        "dataset.count()"
      ],
      "execution_count": 34,
      "outputs": [
        {
          "output_type": "execute_result",
          "data": {
            "text/plain": [
              "text     5374\n",
              "title    5374\n",
              "name     5374\n",
              "dtype: int64"
            ]
          },
          "metadata": {
            "tags": []
          },
          "execution_count": 34
        }
      ]
    },
    {
      "metadata": {
        "id": "XeUTRnBEtGXc",
        "colab_type": "code",
        "colab": {
          "base_uri": "https://localhost:8080/",
          "height": 68
        },
        "outputId": "a6a6ea8b-ab59-4057-8105-6463994c1355"
      },
      "cell_type": "code",
      "source": [
        "import nltk\n",
        "import gensim\n",
        "import gensim.corpora as corpora\n",
        "import re\n",
        "import numpy as np\n",
        "import pandas as pd\n",
        "from pprint import pprint\n",
        "from gensim.utils import simple_preprocess\n",
        "from gensim.models import CoherenceModel\n",
        "import warnings\n",
        "from nltk.corpus import stopwords\n",
        "import spacy\n",
        "nltk.download('stopwords')"
      ],
      "execution_count": 42,
      "outputs": [
        {
          "output_type": "stream",
          "text": [
            "[nltk_data] Downloading package stopwords to /root/nltk_data...\n",
            "[nltk_data]   Unzipping corpora/stopwords.zip.\n"
          ],
          "name": "stdout"
        },
        {
          "output_type": "execute_result",
          "data": {
            "text/plain": [
              "True"
            ]
          },
          "metadata": {
            "tags": []
          },
          "execution_count": 42
        }
      ]
    },
    {
      "metadata": {
        "id": "WvKX40v_tgI3",
        "colab_type": "code",
        "colab": {}
      },
      "cell_type": "code",
      "source": [
        "warnings.filterwarnings(\"ignore\",category=DeprecationWarning)"
      ],
      "execution_count": 0,
      "outputs": []
    },
    {
      "metadata": {
        "id": "QrgxNO8NttY-",
        "colab_type": "code",
        "colab": {}
      },
      "cell_type": "code",
      "source": [
        "stopword_list = stopwords.words('english')\n",
        "stopword_list.extend([ '\\n'])"
      ],
      "execution_count": 0,
      "outputs": []
    },
    {
      "metadata": {
        "id": "SfBA6QUXdNiU",
        "colab_type": "code",
        "colab": {}
      },
      "cell_type": "code",
      "source": [
        "nlp = spacy.load('en', disable=['parser', 'ner'])"
      ],
      "execution_count": 0,
      "outputs": []
    },
    {
      "metadata": {
        "id": "Qg6pXIpebP6I",
        "colab_type": "code",
        "outputId": "72cd7720-3d66-47c7-cdc0-c9455246aa3e",
        "colab": {
          "base_uri": "https://localhost:8080/",
          "height": 173
        }
      },
      "cell_type": "code",
      "source": [
        "data=dataset.text.values.tolist()\n",
        "#corpus and word building\n",
        "def corpus_building(data):\n",
        " \n",
        "    def preprocessing(data):\n",
        "        data = [re.sub('\\s+', ' ', sent) for sent in data]\n",
        "        data = [re.sub(\"\\'\", \"\", sent) for sent in data]\n",
        "        data = [re.sub(\"[%,$]\", \"\", sent) for sent in data]\n",
        "        data= [re.sub(r\"http\\S+\", \"\", sent) for sent in data]\n",
        "        return data\n",
        " \n",
        "    data=preprocessing(data)  \n",
        "    print(data[:1])\n",
        "\n",
        "    def sent_tokenize(sents):\n",
        "        for sent in sents:\n",
        "            yield(gensim.utils.simple_preprocess(str(sent), deacc=True)) \n",
        "\n",
        "    words = list(sent_tokenize(data))\n",
        "    print(words[0])\n",
        "\n",
        "    bigram = gensim.models.Phrases(words, min_count=4, threshold=100) \n",
        "\n",
        "    trigram = gensim.models.Phrases(bigram[words], threshold=100)  \n",
        "\n",
        "    bigram_mod = gensim.models.phrases.Phraser(bigram)\n",
        "\n",
        "    trigram_mod = gensim.models.phrases.Phraser(trigram)\n",
        "\n",
        "    print(trigram_mod[bigram_mod[words[0]]])\n",
        "      \n",
        "    def stopword_remove(texts):\n",
        "        return [[word for word in simple_preprocess(str(te)) if word not in stopword_list] for te in texts]\n",
        "\n",
        "    def make_bi(texts):\n",
        "        return [bigram_mod[te] for te in texts]\n",
        "\n",
        "    def make_tri(texts):\n",
        "        return [trigram_mod[bigram_mod[te]] for te in texts]\n",
        "\n",
        "\n",
        "    def lemmatize(texts, allowed_postags=['NOUN', 'ADJ', 'VERB', 'ADV']):\n",
        "        lems = []\n",
        "        for te in texts:\n",
        "            text = nlp(\" \".join(te)) \n",
        "            lems.append([token.lemma_ for token in text if token.pos_ in allowed_postags])\n",
        "        return lems\n",
        "      \n",
        "    pure_data= stopword_remove(words)\n",
        "      \n",
        "    bi_words = make_bi(pure_data)\n",
        "      \n",
        "    data_lem = lemmatize(bi_words, allowed_postags=['NOUN', 'ADJ', 'VERB', 'ADV'])\n",
        "\n",
        "    print(data_lem[:1])\n",
        "    w = corpora.Dictionary(data_lem)\n",
        "    print(w)\n",
        "      \n",
        "    texts = data_lem\n",
        "\n",
        "    corpus = [w.doc2bow(text) for text in texts]\n",
        "    print(corpus[:1])\n",
        "    return corpus,w\n",
        "\n",
        "corpus,w=corpus_building(data)"
      ],
      "execution_count": 58,
      "outputs": [
        {
          "output_type": "stream",
          "text": [
            "['Artificial Intelligence is the Next Frontier If your company hasn’t already considered integrating artificial intelligence or its satellite technologies into its current processes you might begin to find yourself significantly behind in the game by the end of the year. Who adopts AI Currently there are huge amounts of dollars being invested in AI but studies done by McKinsey Global reveal that adoption is very low. In 2016 the hundreds of surveyed companies invested between 25–39 billion in artificial intelligence. Of the investing companies 75 were tech giants in the industry. The other 25 were start-ups. That amount has tripled since 2013. Adoption nevertheless is low. 41 of the surveyed companies were uncertain about the benefits that AI could bring them. Only about 20 said they already adopted AI into their company. 40 said they are contemplating it and only 9 found themselves simply experimenting with it. When to begin adopting AI The challenge for new adopters of AI seems to be their current familiarity with the tech world and tech systems integrated into their business processes and workflows. According to McKinsey’s studies those companies who adopted AI were already strong in the digital sector (telecommunications high tech automotive and assembly and financial services). Those companies with less adoption were typically in the education sector health care and travel and tourism. Early adopters have usually been larger businesses adopting AI in core activities focusing on growth over savings and adopting multiple technologies. Successful AI adoption experiences There appear to be five successful transformations that source value for AI adoption in companies. Case analyses have brought about more precise results and diagnoses through AI. AI has been effective at creating data ecosystems for businesses that manage large volumes of data. Applying tools and techniques into established systems has been an added value of AI as well as developing workflow integration. Ultimately AI has aided businesses in fostering an open culture and organization. AI has created value already in smarter forecasting optimizing production and maintenance targeted sales and marketing and providing enhanced user experiences. 2018 will be a year of significant investing in AI. Hopefully companies are looking into cost/benefit analyses and deciding early on how to begin integrating AI into their business. Originally published at avoncourtpartners.com on March 19 2018. ']\n",
            "['artificial', 'intelligence', 'is', 'the', 'next', 'frontier', 'if', 'your', 'company', 'hasn', 'already', 'considered', 'integrating', 'artificial', 'intelligence', 'or', 'its', 'satellite', 'technologies', 'into', 'its', 'current', 'processes', 'you', 'might', 'begin', 'to', 'find', 'yourself', 'significantly', 'behind', 'in', 'the', 'game', 'by', 'the', 'end', 'of', 'the', 'year', 'who', 'adopts', 'ai', 'currently', 'there', 'are', 'huge', 'amounts', 'of', 'dollars', 'being', 'invested', 'in', 'ai', 'but', 'studies', 'done', 'by', 'mckinsey', 'global', 'reveal', 'that', 'adoption', 'is', 'very', 'low', 'in', 'the', 'hundreds', 'of', 'surveyed', 'companies', 'invested', 'between', 'billion', 'in', 'artificial', 'intelligence', 'of', 'the', 'investing', 'companies', 'were', 'tech', 'giants', 'in', 'the', 'industry', 'the', 'other', 'were', 'start', 'ups', 'that', 'amount', 'has', 'tripled', 'since', 'adoption', 'nevertheless', 'is', 'low', 'of', 'the', 'surveyed', 'companies', 'were', 'uncertain', 'about', 'the', 'benefits', 'that', 'ai', 'could', 'bring', 'them', 'only', 'about', 'said', 'they', 'already', 'adopted', 'ai', 'into', 'their', 'company', 'said', 'they', 'are', 'contemplating', 'it', 'and', 'only', 'found', 'themselves', 'simply', 'experimenting', 'with', 'it', 'when', 'to', 'begin', 'adopting', 'ai', 'the', 'challenge', 'for', 'new', 'adopters', 'of', 'ai', 'seems', 'to', 'be', 'their', 'current', 'familiarity', 'with', 'the', 'tech', 'world', 'and', 'tech', 'systems', 'integrated', 'into', 'their', 'business', 'processes', 'and', 'workflows', 'according', 'to', 'mckinsey', 'studies', 'those', 'companies', 'who', 'adopted', 'ai', 'were', 'already', 'strong', 'in', 'the', 'digital', 'sector', 'high', 'tech', 'automotive', 'and', 'assembly', 'and', 'financial', 'services', 'those', 'companies', 'with', 'less', 'adoption', 'were', 'typically', 'in', 'the', 'education', 'sector', 'health', 'care', 'and', 'travel', 'and', 'tourism', 'early', 'adopters', 'have', 'usually', 'been', 'larger', 'businesses', 'adopting', 'ai', 'in', 'core', 'activities', 'focusing', 'on', 'growth', 'over', 'savings', 'and', 'adopting', 'multiple', 'technologies', 'successful', 'ai', 'adoption', 'experiences', 'there', 'appear', 'to', 'be', 'five', 'successful', 'transformations', 'that', 'source', 'value', 'for', 'ai', 'adoption', 'in', 'companies', 'case', 'analyses', 'have', 'brought', 'about', 'more', 'precise', 'results', 'and', 'diagnoses', 'through', 'ai', 'ai', 'has', 'been', 'effective', 'at', 'creating', 'data', 'ecosystems', 'for', 'businesses', 'that', 'manage', 'large', 'volumes', 'of', 'data', 'applying', 'tools', 'and', 'techniques', 'into', 'established', 'systems', 'has', 'been', 'an', 'added', 'value', 'of', 'ai', 'as', 'well', 'as', 'developing', 'workflow', 'integration', 'ultimately', 'ai', 'has', 'aided', 'businesses', 'in', 'fostering', 'an', 'open', 'culture', 'and', 'organization', 'ai', 'has', 'created', 'value', 'already', 'in', 'smarter', 'forecasting', 'optimizing', 'production', 'and', 'maintenance', 'targeted', 'sales', 'and', 'marketing', 'and', 'providing', 'enhanced', 'user', 'experiences', 'will', 'be', 'year', 'of', 'significant', 'investing', 'in', 'ai', 'hopefully', 'companies', 'are', 'looking', 'into', 'cost', 'benefit', 'analyses', 'and', 'deciding', 'early', 'on', 'how', 'to', 'begin', 'integrating', 'ai', 'into', 'their', 'business', 'originally', 'published', 'at', 'com', 'on', 'march']\n"
          ],
          "name": "stdout"
        },
        {
          "output_type": "stream",
          "text": [
            "/usr/local/lib/python3.6/dist-packages/gensim/models/phrases.py:598: UserWarning: For a faster implementation, use the gensim.models.phrases.Phraser class\n",
            "  warnings.warn(\"For a faster implementation, use the gensim.models.phrases.Phraser class\")\n"
          ],
          "name": "stderr"
        },
        {
          "output_type": "stream",
          "text": [
            "['artificial', 'intelligence', 'is', 'the', 'next', 'frontier', 'if', 'your', 'company', 'hasn', 'already', 'considered', 'integrating', 'artificial', 'intelligence', 'or', 'its', 'satellite', 'technologies', 'into', 'its', 'current', 'processes', 'you', 'might', 'begin', 'to', 'find', 'yourself', 'significantly', 'behind', 'in', 'the', 'game', 'by', 'the', 'end', 'of', 'the', 'year', 'who', 'adopts', 'ai', 'currently', 'there', 'are', 'huge_amounts', 'of', 'dollars', 'being', 'invested', 'in', 'ai', 'but', 'studies', 'done', 'by', 'mckinsey_global', 'reveal', 'that', 'adoption', 'is', 'very', 'low', 'in', 'the', 'hundreds', 'of', 'surveyed', 'companies', 'invested', 'between', 'billion', 'in', 'artificial', 'intelligence', 'of', 'the', 'investing', 'companies', 'were', 'tech_giants', 'in', 'the', 'industry', 'the', 'other', 'were', 'start_ups', 'that', 'amount', 'has', 'tripled', 'since', 'adoption', 'nevertheless', 'is', 'low', 'of', 'the', 'surveyed', 'companies', 'were', 'uncertain', 'about', 'the', 'benefits', 'that', 'ai', 'could', 'bring', 'them', 'only', 'about', 'said', 'they', 'already', 'adopted', 'ai', 'into', 'their', 'company', 'said', 'they', 'are', 'contemplating', 'it', 'and', 'only', 'found', 'themselves', 'simply', 'experimenting', 'with', 'it', 'when', 'to', 'begin', 'adopting', 'ai', 'the', 'challenge', 'for', 'new', 'adopters', 'of', 'ai', 'seems', 'to', 'be', 'their', 'current', 'familiarity', 'with', 'the', 'tech', 'world', 'and', 'tech', 'systems', 'integrated', 'into', 'their', 'business', 'processes', 'and', 'workflows', 'according', 'to', 'mckinsey', 'studies', 'those', 'companies', 'who', 'adopted', 'ai', 'were', 'already', 'strong', 'in', 'the', 'digital', 'sector', 'high', 'tech', 'automotive', 'and', 'assembly', 'and', 'financial', 'services', 'those', 'companies', 'with', 'less', 'adoption', 'were', 'typically', 'in', 'the', 'education', 'sector', 'health_care', 'and', 'travel', 'and', 'tourism', 'early_adopters', 'have', 'usually', 'been', 'larger', 'businesses', 'adopting', 'ai', 'in', 'core', 'activities', 'focusing', 'on', 'growth', 'over', 'savings', 'and', 'adopting', 'multiple', 'technologies', 'successful', 'ai', 'adoption', 'experiences', 'there', 'appear', 'to', 'be', 'five', 'successful', 'transformations', 'that', 'source', 'value', 'for', 'ai', 'adoption', 'in', 'companies', 'case', 'analyses', 'have', 'brought', 'about', 'more', 'precise', 'results', 'and', 'diagnoses', 'through', 'ai', 'ai', 'has', 'been', 'effective', 'at', 'creating', 'data', 'ecosystems', 'for', 'businesses', 'that', 'manage', 'large_volumes', 'of', 'data', 'applying', 'tools', 'and', 'techniques', 'into', 'established', 'systems', 'has', 'been', 'an', 'added', 'value', 'of', 'ai', 'as', 'well', 'as', 'developing', 'workflow', 'integration', 'ultimately', 'ai', 'has', 'aided', 'businesses', 'in', 'fostering', 'an', 'open', 'culture', 'and', 'organization', 'ai', 'has', 'created', 'value', 'already', 'in', 'smarter', 'forecasting', 'optimizing', 'production', 'and', 'maintenance', 'targeted', 'sales', 'and', 'marketing', 'and', 'providing', 'enhanced', 'user', 'experiences', 'will', 'be', 'year', 'of', 'significant', 'investing', 'in', 'ai', 'hopefully', 'companies', 'are', 'looking', 'into', 'cost', 'benefit', 'analyses', 'and', 'deciding', 'early', 'on', 'how', 'to', 'begin', 'integrating', 'ai', 'into', 'their', 'business', 'originally_published', 'at', 'com', 'on', 'march']\n",
            "[['artificial', 'intelligence', 'frontier', 'company', 'already', 'consider', 'integrate', 'artificial', 'intelligence', 'satellite', 'technology', 'current', 'process', 'may', 'begin', 'find', 'significantly', 'game', 'end', 'year', 'adopt', 'ai', 'currently', 'huge_amount', 'dollar', 'invest', 'ai', 'study', 'do', 'mckinsey_global', 'reveal', 'adoption', 'low', 'hundred', 'survey', 'company', 'invest', 'artificial', 'intelligence', 'investing', 'company', 'tech_giant', 'industry', 'start_up', 'amount', 'triple', 'adoption', 'nevertheless', 'low', 'survey', 'company', 'uncertain', 'benefit', 'ai', 'could', 'bring', 'say', 'already', 'adopt', 'ai', 'company', 'say', 'contemplate', 'find', 'simply', 'experiment', 'begin', 'adopt', 'challenge', 'new', 'adopter', 'ai', 'seem', 'current', 'familiarity', 'tech', 'world', 'tech', 'system', 'integrate', 'business', 'process', 'workflow', 'accord', 'mckinsey', 'study', 'company', 'adopt', 'ai', 'already', 'strong', 'digital', 'sector', 'high', 'tech', 'automotive', 'assembly', 'financial', 'service', 'company', 'less', 'adoption', 'typically', 'education', 'sector', 'health_care', 'travel', 'tourism', 'early_adopter', 'usually', 'large', 'business', 'adopt', 'ai', 'core', 'activity', 'focus', 'growth', 'saving', 'adopt', 'multiple', 'technology', 'successful', 'ai', 'adoption', 'experience', 'appear', 'successful', 'transformation', 'source', 'value', 'ai', 'adoption', 'company', 'case', 'analyse', 'bring', 'precise', 'result', 'diagnosis', 'ai', 'ai', 'effective', 'create', 'datum', 'ecosystem', 'business', 'manage', 'datum', 'apply', 'tool', 'technique', 'establish', 'system', 'add', 'value', 'ai', 'well', 'develop', 'workflow', 'integration', 'ultimately', 'ai', 'aid', 'business', 'foster', 'open', 'culture', 'organization', 'ai', 'create', 'value', 'already', 'smart', 'forecasting', 'optimize', 'production', 'maintenance', 'target', 'sale', 'marketing', 'provide', 'enhance', 'user', 'experience', 'year', 'significant', 'investing', 'ai', 'hopefully', 'company', 'look', 'cost', 'benefit', 'analysis', 'decide', 'early', 'begin', 'integrate', 'ai', 'business', 'originally_publish', 'com', 'march']]\n",
            "Dictionary(84973 unique tokens: ['accord', 'activity', 'add', 'adopt', 'adopter']...)\n",
            "[[(0, 1), (1, 1), (2, 1), (3, 6), (4, 1), (5, 5), (6, 16), (7, 1), (8, 4), (9, 1), (10, 1), (11, 1), (12, 1), (13, 1), (14, 3), (15, 1), (16, 1), (17, 3), (18, 2), (19, 2), (20, 5), (21, 1), (22, 1), (23, 1), (24, 9), (25, 1), (26, 1), (27, 1), (28, 1), (29, 1), (30, 2), (31, 1), (32, 2), (33, 1), (34, 2), (35, 1), (36, 1), (37, 1), (38, 1), (39, 1), (40, 1), (41, 1), (42, 1), (43, 1), (44, 1), (45, 1), (46, 1), (47, 1), (48, 1), (49, 2), (50, 1), (51, 1), (52, 1), (53, 2), (54, 1), (55, 1), (56, 1), (57, 1), (58, 1), (59, 1), (60, 1), (61, 1), (62, 1), (63, 1), (64, 1), (65, 1), (66, 3), (67, 1), (68, 3), (69, 2), (70, 2), (71, 1), (72, 1), (73, 1), (74, 2), (75, 1), (76, 1), (77, 1), (78, 1), (79, 1), (80, 1), (81, 1), (82, 1), (83, 1), (84, 1), (85, 1), (86, 1), (87, 1), (88, 1), (89, 1), (90, 2), (91, 1), (92, 1), (93, 1), (94, 1), (95, 1), (96, 1), (97, 1), (98, 2), (99, 2), (100, 1), (101, 1), (102, 1), (103, 1), (104, 1), (105, 1), (106, 1), (107, 1), (108, 1), (109, 2), (110, 2), (111, 2), (112, 2), (113, 1), (114, 3), (115, 1), (116, 1), (117, 2), (118, 1), (119, 1), (120, 1), (121, 1), (122, 1), (123, 1), (124, 1), (125, 1), (126, 1), (127, 1), (128, 3), (129, 1), (130, 2), (131, 1), (132, 2)]]\n"
          ],
          "name": "stdout"
        }
      ]
    },
    {
      "metadata": {
        "id": "Xv_yMm0n5Wq7",
        "colab_type": "code",
        "colab": {}
      },
      "cell_type": "code",
      "source": [
        "#LDA\n",
        "model=gensim.models.ldamodel.LdaModel(corpus=corpus,id2word=w,num_topics=30, random_state=100,update_every=1,chunksize=100, passes=10,\n",
        "                                           alpha='auto',\n",
        "                                           per_word_topics=True)"
      ],
      "execution_count": 0,
      "outputs": []
    },
    {
      "metadata": {
        "id": "Ir1nK0P65Y5g",
        "colab_type": "code",
        "outputId": "a852b459-c751-4d3f-dd50-219044542e71",
        "colab": {
          "base_uri": "https://localhost:8080/",
          "height": 1343
        }
      },
      "cell_type": "code",
      "source": [
        "pprint(model.print_topics())"
      ],
      "execution_count": 60,
      "outputs": [
        {
          "output_type": "stream",
          "text": [
            "[(0,\n",
            "  '0.087*\"python\" + 0.059*\"tool\" + 0.055*\"read\" + 0.054*\"datum\" + '\n",
            "  '0.045*\"online\" + 0.044*\"pdf\" + 0.042*\"developer\" + 0.041*\"science_handbook\" '\n",
            "  '+ 0.040*\"data\" + 0.034*\"download\"'),\n",
            " (19,\n",
            "  '0.020*\"wrangle\" + 0.014*\"analytic_think\" + 0.006*\"pas\" + '\n",
            "  '0.005*\"cryptography\" + 0.004*\"river\" + 0.003*\"rachel_schutt\" + '\n",
            "  '0.003*\"n_step\" + 0.002*\"dbscan\" + 0.002*\"basicrnncell\" + 0.002*\"n_neuron\"'),\n",
            " (26,\n",
            "  '0.011*\"это\" + 0.008*\"что\" + 0.006*\"как\" + 0.005*\"чтобы\" + 0.004*\"для\" + '\n",
            "  '0.004*\"когда\" + 0.004*\"которыи\" + 0.004*\"которые\" + 0.003*\"william\" + '\n",
            "  '0.003*\"будет\"'),\n",
            " (8,\n",
            "  '0.014*\"bayesian_inference\" + 0.012*\"bayesian_method\" + '\n",
            "  '0.009*\"hackers_probabilistic\" + 0.007*\"dan\" + 0.006*\"et\" + 0.005*\"yang\" + '\n",
            "  '0.005*\"la\" + 0.004*\"qui\" + 0.004*\"ai\" + 0.003*\"eric\"'),\n",
            " (20,\n",
            "  '0.020*\"van\" + 0.011*\"surveillance\" + 0.011*\"het\" + 0.008*\"voor\" + '\n",
            "  '0.008*\"com\" + 0.008*\"op\" + 0.006*\"een\" + 0.006*\"meet\" + 0.006*\"sin\" + '\n",
            "  '0.005*\"solo\"'),\n",
            " (27,\n",
            "  '0.016*\"la\" + 0.013*\"que\" + 0.009*\"como\" + 0.009*\"con\" + 0.008*\"los\" + '\n",
            "  '0.008*\"para\" + 0.007*\"una\" + 0.006*\"era\" + 0.006*\"esta\" + 0.005*\"nude\"'),\n",
            " (17,\n",
            "  '0.119*\"read\" + 0.082*\"online\" + 0.081*\"machine\" + 0.073*\"learn\" + '\n",
            "  '0.071*\"book\" + 0.070*\"download\" + 0.052*\"pdf\" + 0.041*\"techniqu\" + '\n",
            "  '0.031*\"introduction\" + 0.029*\"tool\"'),\n",
            " (25,\n",
            "  '0.038*\"patient\" + 0.014*\"compressor\" + 0.013*\"doctor\" + 0.010*\"flora\" + '\n",
            "  '0.009*\"avocare\" + 0.006*\"medical_imag\" + 0.006*\"medical\" + 0.006*\"paul\" + '\n",
            "  '0.006*\"grade\" + 0.006*\"vik\"'),\n",
            " (24,\n",
            "  '0.058*\"blockchain\" + 0.035*\"higher_education\" + 0.032*\"network\" + '\n",
            "  '0.024*\"case_studie\" + 0.015*\"gan\" + 0.014*\"discriminator\" + 0.013*\"attack\" '\n",
            "  '+ 0.013*\"cryptocurrency\" + 0.012*\"adversarial\" + 0.009*\"distribute\"'),\n",
            " (10,\n",
            "  '0.059*\"tensorflow\" + 0.030*\"python\" + 0.027*\"use\" + 0.027*\"file\" + '\n",
            "  '0.025*\"library\" + 0.022*\"code\" + 0.018*\"create\" + 0.018*\"cuda\" + '\n",
            "  '0.016*\"import\" + 0.016*\"run\"'),\n",
            " (14,\n",
            "  '0.186*\"model\" + 0.048*\"datum\" + 0.043*\"training\" + 0.042*\"feature\" + '\n",
            "  '0.033*\"dataset\" + 0.031*\"train\" + 0.025*\"use\" + 0.022*\"set\" + '\n",
            "  '0.019*\"accuracy\" + 0.018*\"prediction\"'),\n",
            " (11,\n",
            "  '0.230*\"datum\" + 0.081*\"data\" + 0.076*\"science\" + 0.045*\"scientist\" + '\n",
            "  '0.028*\"analysis\" + 0.019*\"use\" + 0.015*\"business\" + 0.014*\"information\" + '\n",
            "  '0.012*\"insight\" + 0.010*\"analytic\"'),\n",
            " (7,\n",
            "  '0.031*\"value\" + 0.026*\"datum\" + 0.018*\"use\" + 0.015*\"sample\" + '\n",
            "  '0.012*\"variable\" + 0.012*\"mean\" + 0.012*\"number\" + 0.010*\"distribution\" + '\n",
            "  '0.010*\"test\" + 0.010*\"point\"'),\n",
            " (9,\n",
            "  '0.051*\"user\" + 0.024*\"use\" + 0.017*\"chatbot\" + 0.016*\"image\" + '\n",
            "  '0.015*\"content\" + 0.013*\"search\" + 0.010*\"video\" + 0.010*\"nlp\" + '\n",
            "  '0.009*\"face\" + 0.009*\"base\"'),\n",
            " (23,\n",
            "  '0.174*\"learn\" + 0.158*\"machine\" + 0.115*\"learning\" + 0.072*\"deep\" + '\n",
            "  '0.066*\"algorithm\" + 0.028*\"ml\" + 0.019*\"example\" + 0.017*\"fundamental\" + '\n",
            "  '0.015*\"reinforcement\" + 0.014*\"generation\"'),\n",
            " (6,\n",
            "  '0.060*\"ai\" + 0.028*\"company\" + 0.021*\"business\" + 0.017*\"technology\" + '\n",
            "  '0.014*\"customer\" + 0.014*\"industry\" + 0.011*\"market\" + 0.011*\"product\" + '\n",
            "  '0.008*\"team\" + 0.008*\"year\"'),\n",
            " (13,\n",
            "  '0.051*\"ai\" + 0.038*\"human\" + 0.017*\"think\" + 0.016*\"people\" + 0.011*\"world\" '\n",
            "  '+ 0.010*\"would\" + 0.010*\"could\" + 0.009*\"technology\" + 0.009*\"machine\" + '\n",
            "  '0.008*\"future\"'),\n",
            " (18,\n",
            "  '0.019*\"use\" + 0.019*\"system\" + 0.016*\"process\" + 0.014*\"work\" + '\n",
            "  '0.012*\"need\" + 0.011*\"help\" + 0.010*\"provide\" + 0.010*\"time\" + '\n",
            "  '0.009*\"information\" + 0.008*\"technology\"'),\n",
            " (12,\n",
            "  '0.014*\"computer\" + 0.013*\"problem\" + 0.010*\"system\" + 0.009*\"make\" + '\n",
            "  '0.008*\"understand\" + 0.008*\"may\" + 0.007*\"way\" + 0.006*\"different\" + '\n",
            "  '0.006*\"use\" + 0.006*\"solve\"'),\n",
            " (1,\n",
            "  '0.021*\"get\" + 0.015*\"time\" + 0.015*\"work\" + 0.014*\"make\" + 0.013*\"go\" + '\n",
            "  '0.013*\"see\" + 0.013*\"want\" + 0.012*\"good\" + 0.012*\"use\" + 0.011*\"need\"')]\n"
          ],
          "name": "stdout"
        }
      ]
    },
    {
      "metadata": {
        "id": "54Uqg_I4jyXr",
        "colab_type": "code",
        "colab": {
          "base_uri": "https://localhost:8080/",
          "height": 170
        },
        "outputId": "3ae53bdc-4b3e-4147-ef16-bfa7d3469af1"
      },
      "cell_type": "code",
      "source": [
        "pprint(model.print_topics(num_topics=3, num_words=7) )"
      ],
      "execution_count": 99,
      "outputs": [
        {
          "output_type": "stream",
          "text": [
            "[(0,\n",
            "  '0.087*\"python\" + 0.059*\"tool\" + 0.055*\"read\" + 0.054*\"datum\" + '\n",
            "  '0.045*\"online\" + 0.044*\"pdf\" + 0.042*\"developer\"'),\n",
            " (12,\n",
            "  '0.014*\"computer\" + 0.013*\"problem\" + 0.010*\"system\" + 0.009*\"make\" + '\n",
            "  '0.008*\"understand\" + 0.008*\"may\" + 0.007*\"way\"'),\n",
            " (1,\n",
            "  '0.021*\"get\" + 0.015*\"time\" + 0.015*\"work\" + 0.014*\"make\" + 0.013*\"go\" + '\n",
            "  '0.013*\"see\" + 0.013*\"want\"')]\n"
          ],
          "name": "stdout"
        }
      ]
    },
    {
      "metadata": {
        "id": "I8l6A-LN6Tsx",
        "colab_type": "code",
        "outputId": "abce45c8-8459-4a8e-cb2d-c0e33fc0530b",
        "colab": {
          "resources": {
            "http://localhost:8080/nbextensions/google.colab/files.js": {
              "data": "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",
              "ok": true,
              "headers": [
                [
                  "content-type",
                  "application/javascript"
                ]
              ],
              "status": 200,
              "status_text": ""
            }
          },
          "base_uri": "https://localhost:8080/",
          "height": 74
        }
      },
      "cell_type": "code",
      "source": [
        "from google.colab import files\n",
        "files.upload()"
      ],
      "execution_count": 0,
      "outputs": [
        {
          "output_type": "display_data",
          "data": {
            "text/html": [
              "\n",
              "     <input type=\"file\" id=\"files-7d708c75-cc84-4c63-9b16-ba99bb472f77\" name=\"files[]\" multiple disabled />\n",
              "     <output id=\"result-7d708c75-cc84-4c63-9b16-ba99bb472f77\">\n",
              "      Upload widget is only available when the cell has been executed in the\n",
              "      current browser session. Please rerun this cell to enable.\n",
              "      </output>\n",
              "      <script src=\"/nbextensions/google.colab/files.js\"></script> "
            ],
            "text/plain": [
              "<IPython.core.display.HTML object>"
            ]
          },
          "metadata": {
            "tags": []
          }
        },
        {
          "output_type": "execute_result",
          "data": {
            "text/plain": [
              "{}"
            ]
          },
          "metadata": {
            "tags": []
          },
          "execution_count": 74
        }
      ]
    },
    {
      "metadata": {
        "id": "W8PEGAEXVZBw",
        "colab_type": "code",
        "colab": {}
      },
      "cell_type": "code",
      "source": [
        "from gensim.test.utils import datapath\n",
        "file = datapath(\"model\")\n",
        "model.save(file)"
      ],
      "execution_count": 0,
      "outputs": []
    },
    {
      "metadata": {
        "id": "iwSwRtC5esOW",
        "colab_type": "code",
        "outputId": "188755df-3c95-44b6-83a8-ea3afadce9aa",
        "colab": {
          "base_uri": "https://localhost:8080/",
          "height": 51
        }
      },
      "cell_type": "code",
      "source": [
        "!ls"
      ],
      "execution_count": 62,
      "outputs": [
        {
          "output_type": "stream",
          "text": [
            "kaggle.json\t\t   medium-articles-with-content.zip\n",
            "Medium_AggregatedData.csv  topic.txt\n"
          ],
          "name": "stdout"
        }
      ]
    },
    {
      "metadata": {
        "id": "Gv7RurxgW2zr",
        "colab_type": "code",
        "colab": {}
      },
      "cell_type": "code",
      "source": [
        "model1 = gensim.models.ldamodel.LdaModel.load(file)"
      ],
      "execution_count": 0,
      "outputs": []
    },
    {
      "metadata": {
        "id": "EUif0AwrYUss",
        "colab_type": "code",
        "colab": {
          "base_uri": "https://localhost:8080/",
          "height": 54
        },
        "outputId": "b84341c4-dbfc-462a-a452-c5e6169ca60e"
      },
      "cell_type": "code",
      "source": [
        "file_read=open(\"topic.txt\")\n",
        "data_read=[file_read.read()]\n",
        "print(data_read)"
      ],
      "execution_count": 70,
      "outputs": [
        {
          "output_type": "stream",
          "text": [
            "['Classification challenges are quite exciting to solve with Machine learning and Deep learning techniques. There are various business use cases of classification algorithm\\u200a—\\u200afrom churn prediction to moderating text reviews for spam/ham.\\n\\nIn this part, we will code out a Tensorflow Linear Classification example, analyze our predictions and validate how fair our model performs on the unseen data. All the regular tensorflow functions will be skipped in this part since we have already covered them in the previous posts. If you feel missed with concepts and variables in tensorflow feel free to look at the previous parts of this series.\\n']\n"
          ],
          "name": "stdout"
        }
      ]
    },
    {
      "metadata": {
        "id": "cHa0-KSaZEfn",
        "colab_type": "code",
        "colab": {
          "base_uri": "https://localhost:8080/",
          "height": 173
        },
        "outputId": "cd03d853-f964-49f5-f7b9-f4592f204b03"
      },
      "cell_type": "code",
      "source": [
        "corpus1,w1=corpus_building(data_read)"
      ],
      "execution_count": 71,
      "outputs": [
        {
          "output_type": "stream",
          "text": [
            "['Classification challenges are quite exciting to solve with Machine learning and Deep learning techniques. There are various business use cases of classification algorithm — from churn prediction to moderating text reviews for spam/ham. In this part we will code out a Tensorflow Linear Classification example analyze our predictions and validate how fair our model performs on the unseen data. All the regular tensorflow functions will be skipped in this part since we have already covered them in the previous posts. If you feel missed with concepts and variables in tensorflow feel free to look at the previous parts of this series. ']\n",
            "['classification', 'challenges', 'are', 'quite', 'exciting', 'to', 'solve', 'with', 'machine', 'learning', 'and', 'deep', 'learning', 'techniques', 'there', 'are', 'various', 'business', 'use', 'cases', 'of', 'classification', 'algorithm', 'from', 'churn', 'prediction', 'to', 'moderating', 'text', 'reviews', 'for', 'spam', 'ham', 'in', 'this', 'part', 'we', 'will', 'code', 'out', 'tensorflow', 'linear', 'classification', 'example', 'analyze', 'our', 'predictions', 'and', 'validate', 'how', 'fair', 'our', 'model', 'performs', 'on', 'the', 'unseen', 'data', 'all', 'the', 'regular', 'tensorflow', 'functions', 'will', 'be', 'skipped', 'in', 'this', 'part', 'since', 'we', 'have', 'already', 'covered', 'them', 'in', 'the', 'previous', 'posts', 'if', 'you', 'feel', 'missed', 'with', 'concepts', 'and', 'variables', 'in', 'tensorflow', 'feel', 'free', 'to', 'look', 'at', 'the', 'previous', 'parts', 'of', 'this', 'series']\n",
            "['classification', 'challenges', 'are', 'quite', 'exciting', 'to', 'solve', 'with', 'machine', 'learning', 'and', 'deep', 'learning', 'techniques', 'there', 'are', 'various', 'business', 'use', 'cases', 'of', 'classification', 'algorithm', 'from', 'churn', 'prediction', 'to', 'moderating', 'text', 'reviews', 'for', 'spam', 'ham', 'in', 'this', 'part', 'we', 'will', 'code', 'out', 'tensorflow', 'linear', 'classification', 'example', 'analyze', 'our', 'predictions', 'and', 'validate', 'how', 'fair', 'our', 'model', 'performs', 'on', 'the', 'unseen', 'data', 'all', 'the', 'regular', 'tensorflow', 'functions', 'will', 'be', 'skipped', 'in', 'this', 'part', 'since', 'we', 'have', 'already', 'covered', 'them', 'in', 'the', 'previous', 'posts', 'if', 'you', 'feel', 'missed', 'with', 'concepts', 'and', 'variables', 'in', 'tensorflow', 'feel', 'free', 'to', 'look', 'at', 'the', 'previous', 'parts', 'of', 'this', 'series']\n",
            "[['classification', 'challenge', 'quite', 'exciting', 'solve', 'machine', 'learn', 'deep', 'learning', 'technique', 'various', 'business', 'use', 'case', 'classification', 'algorithm', 'churn', 'prediction', 'moderate', 'text', 'review', 'spam', 'ham', 'part', 'code', 'tensorflow', 'linear', 'classification', 'example', 'analyze', 'prediction', 'validate', 'fair', 'model', 'perform', 'unseen', 'datum', 'regular', 'tensorflow', 'function', 'skip', 'part', 'already', 'cover', 'previous', 'post', 'feel', 'miss', 'concept', 'variable', 'tensorflow', 'feel', 'free', 'look', 'previous', 'part', 'series']]\n",
            "Dictionary(48 unique tokens: ['algorithm', 'already', 'analyze', 'business', 'case']...)\n",
            "[[(0, 1), (1, 1), (2, 1), (3, 1), (4, 1), (5, 1), (6, 1), (7, 3), (8, 1), (9, 1), (10, 1), (11, 1), (12, 1), (13, 1), (14, 1), (15, 1), (16, 2), (17, 1), (18, 1), (19, 1), (20, 1), (21, 1), (22, 1), (23, 1), (24, 1), (25, 1), (26, 1), (27, 1), (28, 3), (29, 1), (30, 1), (31, 2), (32, 2), (33, 1), (34, 1), (35, 1), (36, 1), (37, 1), (38, 1), (39, 1), (40, 1), (41, 3), (42, 1), (43, 1), (44, 1), (45, 1), (46, 1), (47, 1)]]\n"
          ],
          "name": "stdout"
        },
        {
          "output_type": "stream",
          "text": [
            "/usr/local/lib/python3.6/dist-packages/gensim/models/phrases.py:598: UserWarning: For a faster implementation, use the gensim.models.phrases.Phraser class\n",
            "  warnings.warn(\"For a faster implementation, use the gensim.models.phrases.Phraser class\")\n"
          ],
          "name": "stderr"
        }
      ]
    },
    {
      "metadata": {
        "id": "T-8TCpa6dd9d",
        "colab_type": "code",
        "colab": {}
      },
      "cell_type": "code",
      "source": [
        "vector = model1[corpus1]"
      ],
      "execution_count": 0,
      "outputs": []
    },
    {
      "metadata": {
        "id": "vfpsM7oJgKft",
        "colab_type": "code",
        "colab": {
          "base_uri": "https://localhost:8080/",
          "height": 119
        },
        "outputId": "8c45aa7e-6d8b-4f70-9a16-db7f7e8049b3"
      },
      "cell_type": "code",
      "source": [
        "for topic in vector:\n",
        "    pprint(topic[0])"
      ],
      "execution_count": 106,
      "outputs": [
        {
          "output_type": "stream",
          "text": [
            "[(1, 0.08354962),\n",
            " (6, 0.5985919),\n",
            " (11, 0.020181773),\n",
            " (12, 0.061967976),\n",
            " (13, 0.019029595),\n",
            " (18, 0.15344037)]\n"
          ],
          "name": "stdout"
        }
      ]
    },
    {
      "metadata": {
        "id": "TUWNOpWchcF2",
        "colab_type": "code",
        "colab": {}
      },
      "cell_type": "code",
      "source": [
        ""
      ],
      "execution_count": 0,
      "outputs": []
    }
  ]
}